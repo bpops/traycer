{
 "cells": [
  {
   "cell_type": "markdown",
   "metadata": {},
   "source": [
    "# traycer demo"
   ]
  },
  {
   "cell_type": "code",
   "execution_count": 2,
   "metadata": {},
   "outputs": [
    {
     "name": "stderr",
     "output_type": "stream",
     "text": [
      "Scanlines rendered:   7%|▋         | 21/281 [00:00<00:09, 26.65it/s]"
     ]
    }
   ],
   "source": [
    "import traycer\n",
    "import importlib\n",
    "importlib.reload(traycer)\n",
    "from   imageio import imread\n",
    "from PIL import Image\n",
    "from tqdm import tqdm\n",
    "\n",
    "# filename\n",
    "fname = \"test.ppm\"\n",
    "\n",
    "# world\n",
    "world = traycer.hittable_list()\n",
    "world.add(traycer.sphere(traycer.point3(0,0,-1), 0.5))\n",
    "world.add(traycer.sphere(traycer.point3(0,-100.5,-1), 100))\n",
    "\n",
    "cam = traycer.camera()\n",
    "image = cam.render(world, aa=10, max_depth=100)\n",
    "image.write(fname)\n",
    "display(Image.open(fname))\n"
   ]
  }
 ],
 "metadata": {
  "kernelspec": {
   "display_name": "venv",
   "language": "python",
   "name": "python3"
  },
  "language_info": {
   "codemirror_mode": {
    "name": "ipython",
    "version": 3
   },
   "file_extension": ".py",
   "mimetype": "text/x-python",
   "name": "python",
   "nbconvert_exporter": "python",
   "pygments_lexer": "ipython3",
   "version": "3.12.2"
  }
 },
 "nbformat": 4,
 "nbformat_minor": 2
}
