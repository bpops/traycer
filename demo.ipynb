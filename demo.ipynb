{
 "cells": [
  {
   "cell_type": "markdown",
   "metadata": {},
   "source": [
    "# traycer demo"
   ]
  },
  {
   "cell_type": "code",
   "execution_count": 1,
   "metadata": {},
   "outputs": [
    {
     "ename": "TypeError",
     "evalue": "camera.render() got an unexpected keyword argument 'depth'",
     "output_type": "error",
     "traceback": [
      "\u001b[0;31m---------------------------------------------------------------------------\u001b[0m",
      "\u001b[0;31mTypeError\u001b[0m                                 Traceback (most recent call last)",
      "Cell \u001b[0;32mIn[1], line 17\u001b[0m\n\u001b[1;32m     14\u001b[0m world\u001b[38;5;241m.\u001b[39madd(traycer\u001b[38;5;241m.\u001b[39msphere(traycer\u001b[38;5;241m.\u001b[39mpoint3(\u001b[38;5;241m0\u001b[39m,\u001b[38;5;241m-\u001b[39m\u001b[38;5;241m100.5\u001b[39m,\u001b[38;5;241m-\u001b[39m\u001b[38;5;241m1\u001b[39m), \u001b[38;5;241m100\u001b[39m))\n\u001b[1;32m     16\u001b[0m cam \u001b[38;5;241m=\u001b[39m traycer\u001b[38;5;241m.\u001b[39mcamera()\n\u001b[0;32m---> 17\u001b[0m image \u001b[38;5;241m=\u001b[39m \u001b[43mcam\u001b[49m\u001b[38;5;241;43m.\u001b[39;49m\u001b[43mrender\u001b[49m\u001b[43m(\u001b[49m\u001b[43mworld\u001b[49m\u001b[43m,\u001b[49m\u001b[43m \u001b[49m\u001b[43maa\u001b[49m\u001b[38;5;241;43m=\u001b[39;49m\u001b[38;5;241;43m10\u001b[39;49m\u001b[43m,\u001b[49m\u001b[43m \u001b[49m\u001b[43mdepth\u001b[49m\u001b[38;5;241;43m=\u001b[39;49m\u001b[38;5;241;43m10\u001b[39;49m\u001b[43m)\u001b[49m\n\u001b[1;32m     18\u001b[0m image\u001b[38;5;241m.\u001b[39mwrite(fname)\n\u001b[1;32m     19\u001b[0m display(Image\u001b[38;5;241m.\u001b[39mopen(fname))\n",
      "\u001b[0;31mTypeError\u001b[0m: camera.render() got an unexpected keyword argument 'depth'"
     ]
    }
   ],
   "source": [
    "import traycer\n",
    "import importlib\n",
    "importlib.reload(traycer)\n",
    "from   imageio import imread\n",
    "from PIL import Image\n",
    "from tqdm import tqdm\n",
    "\n",
    "# filename\n",
    "fname = \"test.ppm\"\n",
    "\n",
    "# world\n",
    "world = traycer.hittable_list()\n",
    "world.add(traycer.sphere(traycer.point3(0,0,-1), 0.5))\n",
    "world.add(traycer.sphere(traycer.point3(0,-100.5,-1), 100))\n",
    "\n",
    "cam = traycer.camera()\n",
    "image = cam.render(world, aa=10, max_depth=10)\n",
    "image.write(fname)\n",
    "display(Image.open(fname))\n"
   ]
  }
 ],
 "metadata": {
  "kernelspec": {
   "display_name": "venv",
   "language": "python",
   "name": "python3"
  },
  "language_info": {
   "codemirror_mode": {
    "name": "ipython",
    "version": 3
   },
   "file_extension": ".py",
   "mimetype": "text/x-python",
   "name": "python",
   "nbconvert_exporter": "python",
   "pygments_lexer": "ipython3",
   "version": "3.12.2"
  }
 },
 "nbformat": 4,
 "nbformat_minor": 2
}
